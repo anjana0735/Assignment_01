{
  "nbformat": 4,
  "nbformat_minor": 0,
  "metadata": {
    "colab": {
      "provenance": []
    },
    "kernelspec": {
      "name": "python3",
      "display_name": "Python 3"
    },
    "language_info": {
      "name": "python"
    }
  },
  "cells": [
    {
      "cell_type": "code",
      "execution_count": null,
      "metadata": {
        "id": "I-MGLmyaRsgw"
      },
      "outputs": [],
      "source": []
    },
    {
      "cell_type": "markdown",
      "source": [],
      "metadata": {
        "id": "U3UCJFQiRvAR"
      }
    },
    {
      "cell_type": "markdown",
      "source": [
        "# **ASSINGMENT 01 EXPLORING CONCEPTS IN UI/UX**"
      ],
      "metadata": {
        "id": "DpdpGgT2ViUQ"
      }
    },
    {
      "cell_type": "code",
      "source": [],
      "metadata": {
        "id": "Zh8mSr3ZW-ZD"
      },
      "execution_count": null,
      "outputs": []
    },
    {
      "cell_type": "markdown",
      "source": [
        "\n",
        "\n",
        "1.   What is the significance of user centerd\n",
        "     design in UI/UX?\n",
        "\n",
        "User-centerd design means making the app or by\n",
        "thinking about who will use it. This makes it easy and helpful for users.\n",
        "\n",
        "2.   How do wireframes contribute to the UI/UX  \n",
        "     design process?\n",
        "\n",
        "Wireframes are simple drawings that show the layout of the app or website. They help plan the design before making the final version.\n",
        "\n",
        "3.    Explain the role of usability testing in\n",
        "      improving user experiance?\n",
        "\n",
        "Usability testing means letting people try the design and give the feedback. This helps fix any problems and make it easier to use.\n",
        "\n",
        "4.    Discuss the importance of accessibility in UI/\n",
        "      UX design?\n",
        "\n",
        "Accessibility means everyone can use the app or webiste, even people with disabilities. This important to include all users.\n",
        "\n",
        "5.   What are the key principles of effective UI/UX\n",
        "     design?\n",
        "\n",
        "Good visual design is simple, clean, and easy to understant. It uses the same style, clear text, and makes important things stand out.\n",
        "\n",
        "6.   How do personas influence the design decisions\n",
        "     in UI/UX Projects?\n",
        "\n",
        "Personas are fake user profiles that show real users need and like. They help designers make better choices for the design.\n",
        "\n",
        "\n",
        "\n",
        "\n",
        "\n",
        "\n",
        "\n",
        "\n",
        "\n",
        "\n",
        "\n",
        "\n",
        "\n",
        "\n",
        "\n",
        "\n",
        "\n",
        "\n",
        "\n",
        "\n"
      ],
      "metadata": {
        "id": "HcoHs5TOWLgX"
      }
    }
  ]
}